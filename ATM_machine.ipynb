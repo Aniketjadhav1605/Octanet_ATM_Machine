import time

print("Please insert your card")

time.sleep(5)

password = 5576

pin=int(input("Enter your pin"))

balance=25000


if pin==password:
    while True:

        print("""
            1 == balance inquiry
            2 == withdraw balance
            3 == deposit balnce
            4 == exit
            """
             )
        try:
            option=int(input("Please enter your choice"))
        except:
            print("Please enter valid option")


        if option==1:
            print(f"your current balance is{balance}")

        if option==2:
            withdraw_amount=int(input("please enter withdraw_amount"))
            balance=balance-withdraw_amount
            print(f"{withdraw_amount}is debited from your account")
            print(f"your updated balance is {balance}")

        if option==3:
            deposit_amount=int(input("please enter deposit_amount"))
            balance=balance+deposit_amount
            print(f"{deposit_amount}is credited  in your account")
            print(f"your updated balance is {balance}")

        if option==4:
            break

else:
    print("Wrong pin Please try again")
